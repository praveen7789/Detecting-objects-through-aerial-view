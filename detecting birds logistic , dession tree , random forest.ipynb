{
 "cells": [
  {
   "cell_type": "code",
   "execution_count": 2,
   "metadata": {},
   "outputs": [],
   "source": [
    "import numpy as np\n",
    "import cv2 as cv\n",
    "import matplotlib.pyplot as plt\n",
    "%matplotlib inline\n",
    "import math\n",
    "import pandas as pd\n",
    "import seaborn as sns\n",
    "import glob\n",
    "import cv2\n",
    "import re\n",
    "import os\n",
    "from sklearn.model_selection import train_test_split\n",
    "import statsmodels.api as sm\n",
    "import statsmodels.formula.api as smf"
   ]
  },
  {
   "cell_type": "code",
   "execution_count": 3,
   "metadata": {},
   "outputs": [],
   "source": [
    "#Here I have a about 200 images in the below folder 'train' glob will get all the images from folder here\n",
    "path = glob.glob('./train/*.JPG')\n",
    "image=[]\n",
    "for img in path:\n",
    "    v = cv.imread(img) #It will loads all the images from a file\n",
    "    blur = cv.GaussianBlur(v,(5,5),0)\n",
    "    gray = cv.cvtColor(blur,cv.COLOR_BGR2GRAY)# here changing  color image to gray scale\n",
    "    image.append(gray)"
   ]
  },
  {
   "cell_type": "code",
   "execution_count": 4,
   "metadata": {},
   "outputs": [
    {
     "data": {
      "text/plain": [
       "200"
      ]
     },
     "execution_count": 4,
     "metadata": {},
     "output_type": "execute_result"
    }
   ],
   "source": [
    "names=os.listdir('train')#it will get on the images names from a directory\n",
    "string = ''.join(names)\n",
    "result=re.findall(r'\\_(\\d)',string)\n",
    "Birds = list(map(int, result))\n",
    "len(Birds)"
   ]
  },
  {
   "cell_type": "code",
   "execution_count": 5,
   "metadata": {},
   "outputs": [],
   "source": [
    "#Function for certain features:\n",
    "def Headers(Kernel):\n",
    "    x,y = np.nonzero(thresh)  #It will returns the nonzero values of the array\n",
    "    x = x - np.mean(x)\n",
    "    y = y - np.mean(y)\n",
    "    coords = np.vstack([x, y])\n",
    "    vax = [np.var(x)]          #Variance(x)\n",
    "    vax = np.nan_to_num(vax)   # It will replace any null values with zeros\n",
    "    vay = [np.var(y)]          #Variance(y)\n",
    "    vay = np.nan_to_num(vay)\n",
    "    correlation = [np.corrcoef(x,y)[0][1]] #correlation\n",
    "    correlation = np.nan_to_num(correlation)\n",
    "    covariance = [np.cov(x,y)[0][1]]    #covariance\n",
    "    covariance = np.nan_to_num(covariance)\n",
    "    cov = np.cov(coords)\n",
    "    cov= np.nan_to_num(cov)\n",
    "    evals, evecs = np.linalg.eig(cov) #creating eigen values and eigen vectors\n",
    "    sort_indices =np.argsort(evals)[::-1] # index sorting & inversing [::-1]\n",
    "    x_v1,y_v1 = evecs[:, sort_indices[0]]  # Eigenvector with largest eigenvalue\n",
    "    x_v2,y_v2 = evecs[:, sort_indices[1]]  # Eigenvector with lowest eigenvalue\n",
    "    \n",
    "    angel1 = math.degrees(np.arctan(y_v1/x_v1))   #theta value of 1st vector\n",
    "    angel2= math.degrees(np.arctan(y_v2/x_v2))    #theta value of 2nd vector\n",
    "    return  vax,vay,correlation,covariance,angel1,angel2 #It will give us all above defined values\n"
   ]
  },
  {
   "cell_type": "code",
   "execution_count": 6,
   "metadata": {},
   "outputs": [
    {
     "name": "stderr",
     "output_type": "stream",
     "text": [
      "/home/praveen/anaconda3/lib/python3.6/site-packages/numpy/core/fromnumeric.py:2920: RuntimeWarning: Mean of empty slice.\n",
      "  out=out, **kwargs)\n",
      "/home/praveen/anaconda3/lib/python3.6/site-packages/numpy/core/_methods.py:85: RuntimeWarning: invalid value encountered in double_scalars\n",
      "  ret = ret.dtype.type(ret / rcount)\n",
      "/home/praveen/anaconda3/lib/python3.6/site-packages/numpy/core/fromnumeric.py:3157: RuntimeWarning: Degrees of freedom <= 0 for slice\n",
      "  **kwargs)\n",
      "/home/praveen/anaconda3/lib/python3.6/site-packages/numpy/core/_methods.py:110: RuntimeWarning: invalid value encountered in true_divide\n",
      "  arrmean, rcount, out=arrmean, casting='unsafe', subok=False)\n",
      "/home/praveen/anaconda3/lib/python3.6/site-packages/numpy/core/_methods.py:132: RuntimeWarning: invalid value encountered in double_scalars\n",
      "  ret = ret.dtype.type(ret / rcount)\n",
      "/home/praveen/anaconda3/lib/python3.6/site-packages/numpy/lib/function_base.py:356: RuntimeWarning: Mean of empty slice.\n",
      "  avg = a.mean(axis)\n",
      "/home/praveen/anaconda3/lib/python3.6/site-packages/numpy/core/_methods.py:78: RuntimeWarning: invalid value encountered in true_divide\n",
      "  ret, rcount, out=ret, casting='unsafe', subok=False)\n",
      "/home/praveen/anaconda3/lib/python3.6/site-packages/numpy/lib/function_base.py:2392: RuntimeWarning: Degrees of freedom <= 0 for slice\n",
      "  c = cov(x, y, rowvar)\n",
      "/home/praveen/anaconda3/lib/python3.6/site-packages/numpy/lib/function_base.py:2326: RuntimeWarning: divide by zero encountered in true_divide\n",
      "  c *= np.true_divide(1, fact)\n",
      "/home/praveen/anaconda3/lib/python3.6/site-packages/numpy/lib/function_base.py:2326: RuntimeWarning: invalid value encountered in multiply\n",
      "  c *= np.true_divide(1, fact)\n",
      "/home/praveen/anaconda3/lib/python3.6/site-packages/ipykernel_launcher.py:13: RuntimeWarning: Degrees of freedom <= 0 for slice\n",
      "  del sys.path[0]\n",
      "/home/praveen/anaconda3/lib/python3.6/site-packages/ipykernel_launcher.py:15: RuntimeWarning: Degrees of freedom <= 0 for slice\n",
      "  from ipykernel import kernelapp as app\n",
      "/home/praveen/anaconda3/lib/python3.6/site-packages/ipykernel_launcher.py:22: RuntimeWarning: divide by zero encountered in double_scalars\n",
      "/home/praveen/anaconda3/lib/python3.6/site-packages/numpy/lib/function_base.py:2400: RuntimeWarning: invalid value encountered in true_divide\n",
      "  c /= stddev[:, None]\n",
      "/home/praveen/anaconda3/lib/python3.6/site-packages/numpy/lib/function_base.py:2401: RuntimeWarning: invalid value encountered in true_divide\n",
      "  c /= stddev[None, :]\n",
      "/home/praveen/anaconda3/lib/python3.6/site-packages/ipykernel_launcher.py:23: RuntimeWarning: divide by zero encountered in double_scalars\n"
     ]
    }
   ],
   "source": [
    "# we are going to extract all features for all images \n",
    "for i in image:    \n",
    "    #Here we are using different kernels/Filters to extract features needed form all the images\n",
    " \n",
    "    \n",
    "    #blur = cv.GaussianBlur(i,(5,5),cv.CV_64F)\n",
    "    fil = cv.bilateralFilter(i,5,cv.CV_32F,150,150)\n",
    "    kernel = cv.getStructuringElement(cv.MORPH_ELLIPSE, (3, 3))\n",
    "    ero = cv.erode(fil,kernel,iterations=2)\n",
    "    laplacian = cv.Laplacian(ero,cv.CV_64F)\n",
    "    _,thresh = cv.threshold(laplacian,15,255,cv.THRESH_BINARY)\n",
    "    vaxL,vayL,ccL,dataL,angelL1,angelL2 = Headers(laplacian) #applying function with new variables names\n",
    "\n",
    "    \n",
    "    #blur = cv.GaussianBlur(i,(5,5),cv.CV_64F)\n",
    "    cann = cv.Canny(i,cv.CV_8U,100,200)\n",
    "    _,thresh = cv.threshold(cann,15,255,cv.THRESH_BINARY)\n",
    "    vaxC,vayC,ccC,dataC,angelC1,angelC2 = Headers(cann) #applying function  with new variables names\n",
    "     \n",
    "    #blur = cv.GaussianBlur(i,(5,5),cv.CV_64F)\n",
    "    scharrx = cv.Scharr(fil,cv.CV_64F,1,0)# scharrx \n",
    "    scharry = cv.Scharr(fil,cv.CV_64F,0,1) #scharry\n",
    "    scharr = cv.addWeighted(scharrx,0.5,scharry,0.5,0)\n",
    "    scharr_ = np.maximum(scharr,50) # threshold the value to 50\n",
    "    scharr_[scharr_==50]=0 # collect those values\n",
    "    _, thresh = cv.threshold(scharr_,15,255,cv.THRESH_BINARY)#create a thershold\n",
    "    vaxS,vayS,ccS,dataS,angelS1,angelS2 = Headers(scharr_)#applying function to kernel4 with new variables names\n",
    "\n",
    "    #blur = cv.GaussianBlur(i,(5,5),cv.CV_64F)\n",
    "    sobelx = cv.Sobel(i,cv.CV_64F,1,0,ksize=5) # sobel x\n",
    "    sobely = cv.Sobel(i,cv.CV_64F,0,1,ksize=5) # sobel y\n",
    "    sobel = cv.addWeighted(sobelx,0.5,sobely,0.5,0) # sobel = sobel x + sobel y\n",
    "    sobel_ = np.maximum(sobel,50) # threshold the value to 50\n",
    "    sobel_[sobel_==50]=0 # collect those values\n",
    "    _, thresh = cv.threshold(sobel_,15,255,cv.THRESH_BINARY)#create a thershold\n",
    "    vaxO,vayO,ccO,dataO,angelO1,angelO2 = Headers(sobel_) #applying function to kernel1 with new variables namesthose values\n",
    "    \n",
    "    \n",
    "    \n",
    "    # This gives a matrix with same dimesions of our image with all values being 75\n",
    "    matrix = np.ones(i.shape, dtype = \"uint8\") * 75\n",
    "    # We use the matrix to add to our image\n",
    "    added = cv2.add(i, matrix)\n",
    "    _,thresh = cv.threshold(added,15,255,cv.THRESH_BINARY)\n",
    "    vaxa,vaya,cca,dataa,angela1,angela2 = Headers(added)\n",
    "    \n",
    "    \n",
    "    \n",
    "    \n",
    "    kernel_sharpening = np.array([[-1,-1,-1], \n",
    "                                  [-1, 9,-1],\n",
    "                                  [-1,-1,-1]])\n",
    "    sharpened = cv2.filter2D(i, -1, kernel_sharpening)\n",
    "    _,thresh = cv.threshold(added,15,255,cv.THRESH_BINARY)\n",
    "    vaxsh,vaysh,ccsh,datash,angelsh1,angelsh2 = Headers(added)\n",
    "    \n",
    "   \n",
    "    #Creating a data frame table for all the features obtained for each kernel:\n",
    "    \n",
    "    data={'vaxO':vaxO,'vayO':vayO,'ccO':ccO,'dataO':dataO,'angelO1':angelO1,'angelO2':angelO2,'vaxL':vaxL,'vayL':vayL,'ccL':ccL,'dataL':dataL,'angelL1':angelL1,'angelL2':angelL2,'vaxS':vaxS,'vayS':vayS,'ccS':ccS,'dataS':dataS,'angelS1':angelS1,'angelS2':angelS2,\n",
    "    'vaxC':vaxC,'vayC':vayC,'ccC':ccC,'dataC':dataC,'angelC1':angelC1,'angelC2':angelC2,'vaxa':vaxa,'vaya':vaya,'cca':cca,'dataa':dataa,'angela1':angela1,'angela2':angela2,\n",
    "         'vaxsh':vaxsh,'vaysh':vaysh,'ccsh':ccsh,'datash':datash,'angelsh1':angelsh1,'angelsh2':angelsh2}\n",
    "        \n",
    "\n",
    "    df_temp = pd.DataFrame(data=data)\n",
    "    try:\n",
    "         df = pd.concat((df,df_temp),ignore_index=True)\n",
    "    except:\n",
    "        df = df_temp\n",
    "       \n"
   ]
  },
  {
   "cell_type": "code",
   "execution_count": 7,
   "metadata": {},
   "outputs": [
    {
     "data": {
      "text/plain": [
       "'# It is always a good habit to \\nimport cv2\\nimport numpy as np\\n# Reading in the input image\\nfor i in image:\\n    #image = cv2.imread(\\'images/input.jpg\\')\\n    # Create a matrix of ones of type int in the same size as the image\\n    # then multiply it by a scaler of 75 \\n    # This gives a matrix with same dimesions of our image with all values being 75\\n    matrix = np.ones(i.shape, dtype = \"uint8\") * 75\\n    # We use the matrix to add to our image\\n    added = cv2.add(i, matrix)\\n    cv2.imshow(\"Added\", added)\\n    # Likewise we can also subtract\\n    subtracted = cv2.subtract(i, matrix)\\n    cv2.imshow(\"Subtracted\", subtracted)\\n    # Wait & terminate\\n    cv2.waitKey(0)\\n    cv2.destroyAllWindows()'"
      ]
     },
     "execution_count": 7,
     "metadata": {},
     "output_type": "execute_result"
    }
   ],
   "source": [
    "'''# It is always a good habit to \n",
    "import cv2\n",
    "import numpy as np\n",
    "# Reading in the input image\n",
    "for i in image:\n",
    "    #image = cv2.imread('images/input.jpg')\n",
    "    # Create a matrix of ones of type int in the same size as the image\n",
    "    # then multiply it by a scaler of 75 \n",
    "    # This gives a matrix with same dimesions of our image with all values being 75\n",
    "    matrix = np.ones(i.shape, dtype = \"uint8\") * 75\n",
    "    # We use the matrix to add to our image\n",
    "    added = cv2.add(i, matrix)\n",
    "    cv2.imshow(\"Added\", added)\n",
    "    # Likewise we can also subtract\n",
    "    subtracted = cv2.subtract(i, matrix)\n",
    "    cv2.imshow(\"Subtracted\", subtracted)\n",
    "    # Wait & terminate\n",
    "    cv2.waitKey(0)\n",
    "    cv2.destroyAllWindows()'''"
   ]
  },
  {
   "cell_type": "code",
   "execution_count": 8,
   "metadata": {},
   "outputs": [
    {
     "data": {
      "text/plain": [
       "'# It is always a good habit to \\nimport cv2\\nimport numpy as np\\n# Reading in the input image\\nfor i in image:\\n    #image = cv2.imread(\\'images/input.jpg\\')\\n    # Create a matrix of ones of type int in the same size as the image\\n    # then multiply it by a scaler of 75 \\n    # This gives a matrix with same dimesions of our image with all values being 75\\n    matrix = np.ones(i.shape, dtype = \"uint8\") * 75\\n    # We use the matrix to add to our image\\n    added = cv2.add(i, matrix)\\n    _,thresh = cv.threshold(added,15,255,cv.THRESH_BINARY)\\n    vaxa,vaya,cca,dataa,angelSa,angelSa = Headers(added)\\n    \\n    \\n'"
      ]
     },
     "execution_count": 8,
     "metadata": {},
     "output_type": "execute_result"
    }
   ],
   "source": [
    "'''# It is always a good habit to \n",
    "import cv2\n",
    "import numpy as np\n",
    "# Reading in the input image\n",
    "for i in image:\n",
    "    #image = cv2.imread('images/input.jpg')\n",
    "    # Create a matrix of ones of type int in the same size as the image\n",
    "    # then multiply it by a scaler of 75 \n",
    "    # This gives a matrix with same dimesions of our image with all values being 75\n",
    "    matrix = np.ones(i.shape, dtype = \"uint8\") * 75\n",
    "    # We use the matrix to add to our image\n",
    "    added = cv2.add(i, matrix)\n",
    "    _,thresh = cv.threshold(added,15,255,cv.THRESH_BINARY)\n",
    "    vaxa,vaya,cca,dataa,angelSa,angelSa = Headers(added)\n",
    "    \n",
    "    \n",
    "'''"
   ]
  },
  {
   "cell_type": "code",
   "execution_count": 9,
   "metadata": {},
   "outputs": [
    {
     "data": {
      "text/plain": [
       "'for i in image:\\n    kernel_sharpening = np.array([[-1,-1,-1], \\n                                  [-1, 9,-1],\\n                                  [-1,-1,-1]])\\n    sharpened = cv2.filter2D(i, -1, kernel_sharpening)\\n    _,thresh = cv.threshold(added,15,255,cv.THRESH_BINARY)\\n    vaxsh,vaysh,ccsh,datash,angelSsh,angelSsh = Headers(added)\\n    '"
      ]
     },
     "execution_count": 9,
     "metadata": {},
     "output_type": "execute_result"
    }
   ],
   "source": [
    "'''for i in image:\n",
    "    kernel_sharpening = np.array([[-1,-1,-1], \n",
    "                                  [-1, 9,-1],\n",
    "                                  [-1,-1,-1]])\n",
    "    sharpened = cv2.filter2D(i, -1, kernel_sharpening)\n",
    "    _,thresh = cv.threshold(added,15,255,cv.THRESH_BINARY)\n",
    "    vaxsh,vaysh,ccsh,datash,angelSsh,angelSsh = Headers(added)\n",
    "    '''"
   ]
  },
  {
   "cell_type": "code",
   "execution_count": 10,
   "metadata": {},
   "outputs": [
    {
     "data": {
      "text/plain": [
       "array([4181.25])"
      ]
     },
     "execution_count": 10,
     "metadata": {},
     "output_type": "execute_result"
    }
   ],
   "source": [
    "vaxsh"
   ]
  },
  {
   "cell_type": "code",
   "execution_count": null,
   "metadata": {},
   "outputs": [],
   "source": []
  },
  {
   "cell_type": "code",
   "execution_count": null,
   "metadata": {},
   "outputs": [],
   "source": []
  },
  {
   "cell_type": "code",
   "execution_count": 11,
   "metadata": {},
   "outputs": [],
   "source": [
    "Bird=np.array(Birds)"
   ]
  },
  {
   "cell_type": "code",
   "execution_count": 12,
   "metadata": {},
   "outputs": [
    {
     "data": {
      "text/plain": [
       "200"
      ]
     },
     "execution_count": 12,
     "metadata": {},
     "output_type": "execute_result"
    }
   ],
   "source": [
    "len(Bird)"
   ]
  },
  {
   "cell_type": "code",
   "execution_count": 13,
   "metadata": {},
   "outputs": [
    {
     "data": {
      "text/plain": [
       "(200, 36)"
      ]
     },
     "execution_count": 13,
     "metadata": {},
     "output_type": "execute_result"
    }
   ],
   "source": [
    "df.shape"
   ]
  },
  {
   "cell_type": "code",
   "execution_count": 14,
   "metadata": {},
   "outputs": [],
   "source": [
    "df['Bird']=Bird "
   ]
  },
  {
   "cell_type": "code",
   "execution_count": 15,
   "metadata": {},
   "outputs": [],
   "source": [
    "df.to_csv('Birda_data1.csv')"
   ]
  },
  {
   "cell_type": "code",
   "execution_count": 16,
   "metadata": {},
   "outputs": [
    {
     "data": {
      "text/html": [
       "<div>\n",
       "<style scoped>\n",
       "    .dataframe tbody tr th:only-of-type {\n",
       "        vertical-align: middle;\n",
       "    }\n",
       "\n",
       "    .dataframe tbody tr th {\n",
       "        vertical-align: top;\n",
       "    }\n",
       "\n",
       "    .dataframe thead th {\n",
       "        text-align: right;\n",
       "    }\n",
       "</style>\n",
       "<table border=\"1\" class=\"dataframe\">\n",
       "  <thead>\n",
       "    <tr style=\"text-align: right;\">\n",
       "      <th></th>\n",
       "      <th>vaxO</th>\n",
       "      <th>vayO</th>\n",
       "      <th>ccO</th>\n",
       "      <th>dataO</th>\n",
       "      <th>angelO1</th>\n",
       "      <th>angelO2</th>\n",
       "      <th>vaxL</th>\n",
       "      <th>vayL</th>\n",
       "      <th>ccL</th>\n",
       "      <th>dataL</th>\n",
       "      <th>...</th>\n",
       "      <th>dataa</th>\n",
       "      <th>angela1</th>\n",
       "      <th>angela2</th>\n",
       "      <th>vaxsh</th>\n",
       "      <th>vaysh</th>\n",
       "      <th>ccsh</th>\n",
       "      <th>datash</th>\n",
       "      <th>angelsh1</th>\n",
       "      <th>angelsh2</th>\n",
       "      <th>Bird</th>\n",
       "    </tr>\n",
       "  </thead>\n",
       "  <tbody>\n",
       "    <tr>\n",
       "      <th>0</th>\n",
       "      <td>3675.948992</td>\n",
       "      <td>3719.873990</td>\n",
       "      <td>0.021881</td>\n",
       "      <td>80.923200</td>\n",
       "      <td>52.592989</td>\n",
       "      <td>-37.407011</td>\n",
       "      <td>0.00</td>\n",
       "      <td>0.0</td>\n",
       "      <td>0.0</td>\n",
       "      <td>0.0</td>\n",
       "      <td>...</td>\n",
       "      <td>0.0</td>\n",
       "      <td>90.0</td>\n",
       "      <td>0.0</td>\n",
       "      <td>4181.25</td>\n",
       "      <td>4181.25</td>\n",
       "      <td>0.0</td>\n",
       "      <td>0.0</td>\n",
       "      <td>90.0</td>\n",
       "      <td>0.0</td>\n",
       "      <td>1</td>\n",
       "    </tr>\n",
       "    <tr>\n",
       "      <th>1</th>\n",
       "      <td>3965.735177</td>\n",
       "      <td>3218.404725</td>\n",
       "      <td>-0.057718</td>\n",
       "      <td>-206.246065</td>\n",
       "      <td>-14.445753</td>\n",
       "      <td>75.554247</td>\n",
       "      <td>0.25</td>\n",
       "      <td>0.0</td>\n",
       "      <td>0.0</td>\n",
       "      <td>0.0</td>\n",
       "      <td>...</td>\n",
       "      <td>0.0</td>\n",
       "      <td>90.0</td>\n",
       "      <td>0.0</td>\n",
       "      <td>4181.25</td>\n",
       "      <td>4181.25</td>\n",
       "      <td>0.0</td>\n",
       "      <td>0.0</td>\n",
       "      <td>90.0</td>\n",
       "      <td>0.0</td>\n",
       "      <td>1</td>\n",
       "    </tr>\n",
       "    <tr>\n",
       "      <th>2</th>\n",
       "      <td>3886.114991</td>\n",
       "      <td>3889.515733</td>\n",
       "      <td>-0.009079</td>\n",
       "      <td>-35.302245</td>\n",
       "      <td>-46.378941</td>\n",
       "      <td>43.621059</td>\n",
       "      <td>0.00</td>\n",
       "      <td>0.0</td>\n",
       "      <td>0.0</td>\n",
       "      <td>0.0</td>\n",
       "      <td>...</td>\n",
       "      <td>0.0</td>\n",
       "      <td>90.0</td>\n",
       "      <td>0.0</td>\n",
       "      <td>4181.25</td>\n",
       "      <td>4181.25</td>\n",
       "      <td>0.0</td>\n",
       "      <td>0.0</td>\n",
       "      <td>90.0</td>\n",
       "      <td>0.0</td>\n",
       "      <td>0</td>\n",
       "    </tr>\n",
       "    <tr>\n",
       "      <th>3</th>\n",
       "      <td>4244.191365</td>\n",
       "      <td>4221.542235</td>\n",
       "      <td>0.007970</td>\n",
       "      <td>33.737701</td>\n",
       "      <td>35.721709</td>\n",
       "      <td>-54.278291</td>\n",
       "      <td>0.00</td>\n",
       "      <td>0.0</td>\n",
       "      <td>0.0</td>\n",
       "      <td>0.0</td>\n",
       "      <td>...</td>\n",
       "      <td>0.0</td>\n",
       "      <td>90.0</td>\n",
       "      <td>0.0</td>\n",
       "      <td>4181.25</td>\n",
       "      <td>4181.25</td>\n",
       "      <td>0.0</td>\n",
       "      <td>0.0</td>\n",
       "      <td>90.0</td>\n",
       "      <td>0.0</td>\n",
       "      <td>0</td>\n",
       "    </tr>\n",
       "    <tr>\n",
       "      <th>4</th>\n",
       "      <td>4027.260821</td>\n",
       "      <td>4398.653690</td>\n",
       "      <td>0.017723</td>\n",
       "      <td>74.666737</td>\n",
       "      <td>79.057519</td>\n",
       "      <td>-10.942481</td>\n",
       "      <td>0.00</td>\n",
       "      <td>0.0</td>\n",
       "      <td>0.0</td>\n",
       "      <td>0.0</td>\n",
       "      <td>...</td>\n",
       "      <td>0.0</td>\n",
       "      <td>90.0</td>\n",
       "      <td>0.0</td>\n",
       "      <td>4181.25</td>\n",
       "      <td>4181.25</td>\n",
       "      <td>0.0</td>\n",
       "      <td>0.0</td>\n",
       "      <td>90.0</td>\n",
       "      <td>0.0</td>\n",
       "      <td>0</td>\n",
       "    </tr>\n",
       "  </tbody>\n",
       "</table>\n",
       "<p>5 rows × 37 columns</p>\n",
       "</div>"
      ],
      "text/plain": [
       "          vaxO         vayO       ccO       dataO    angelO1    angelO2  vaxL  \\\n",
       "0  3675.948992  3719.873990  0.021881   80.923200  52.592989 -37.407011  0.00   \n",
       "1  3965.735177  3218.404725 -0.057718 -206.246065 -14.445753  75.554247  0.25   \n",
       "2  3886.114991  3889.515733 -0.009079  -35.302245 -46.378941  43.621059  0.00   \n",
       "3  4244.191365  4221.542235  0.007970   33.737701  35.721709 -54.278291  0.00   \n",
       "4  4027.260821  4398.653690  0.017723   74.666737  79.057519 -10.942481  0.00   \n",
       "\n",
       "   vayL  ccL  dataL  ...   dataa  angela1  angela2    vaxsh    vaysh  ccsh  \\\n",
       "0   0.0  0.0    0.0  ...     0.0     90.0      0.0  4181.25  4181.25   0.0   \n",
       "1   0.0  0.0    0.0  ...     0.0     90.0      0.0  4181.25  4181.25   0.0   \n",
       "2   0.0  0.0    0.0  ...     0.0     90.0      0.0  4181.25  4181.25   0.0   \n",
       "3   0.0  0.0    0.0  ...     0.0     90.0      0.0  4181.25  4181.25   0.0   \n",
       "4   0.0  0.0    0.0  ...     0.0     90.0      0.0  4181.25  4181.25   0.0   \n",
       "\n",
       "   datash  angelsh1  angelsh2  Bird  \n",
       "0     0.0      90.0       0.0     1  \n",
       "1     0.0      90.0       0.0     1  \n",
       "2     0.0      90.0       0.0     0  \n",
       "3     0.0      90.0       0.0     0  \n",
       "4     0.0      90.0       0.0     0  \n",
       "\n",
       "[5 rows x 37 columns]"
      ]
     },
     "execution_count": 16,
     "metadata": {},
     "output_type": "execute_result"
    }
   ],
   "source": [
    "df.head()"
   ]
  },
  {
   "cell_type": "code",
   "execution_count": 17,
   "metadata": {},
   "outputs": [],
   "source": [
    "from sklearn.linear_model import LogisticRegression\n",
    "data = pd.read_csv('./Birda_data1.csv')"
   ]
  },
  {
   "cell_type": "code",
   "execution_count": 18,
   "metadata": {
    "scrolled": true
   },
   "outputs": [],
   "source": [
    "data.drop('Unnamed: 0',axis=1, inplace= True)"
   ]
  },
  {
   "cell_type": "code",
   "execution_count": 19,
   "metadata": {},
   "outputs": [
    {
     "data": {
      "text/html": [
       "<div>\n",
       "<style scoped>\n",
       "    .dataframe tbody tr th:only-of-type {\n",
       "        vertical-align: middle;\n",
       "    }\n",
       "\n",
       "    .dataframe tbody tr th {\n",
       "        vertical-align: top;\n",
       "    }\n",
       "\n",
       "    .dataframe thead th {\n",
       "        text-align: right;\n",
       "    }\n",
       "</style>\n",
       "<table border=\"1\" class=\"dataframe\">\n",
       "  <thead>\n",
       "    <tr style=\"text-align: right;\">\n",
       "      <th></th>\n",
       "      <th>vaxO</th>\n",
       "      <th>vayO</th>\n",
       "      <th>ccO</th>\n",
       "      <th>dataO</th>\n",
       "      <th>angelO1</th>\n",
       "      <th>angelO2</th>\n",
       "      <th>vaxL</th>\n",
       "      <th>vayL</th>\n",
       "      <th>ccL</th>\n",
       "      <th>dataL</th>\n",
       "      <th>...</th>\n",
       "      <th>dataa</th>\n",
       "      <th>angela1</th>\n",
       "      <th>angela2</th>\n",
       "      <th>vaxsh</th>\n",
       "      <th>vaysh</th>\n",
       "      <th>ccsh</th>\n",
       "      <th>datash</th>\n",
       "      <th>angelsh1</th>\n",
       "      <th>angelsh2</th>\n",
       "      <th>Bird</th>\n",
       "    </tr>\n",
       "  </thead>\n",
       "  <tbody>\n",
       "    <tr>\n",
       "      <th>0</th>\n",
       "      <td>3675.948992</td>\n",
       "      <td>3719.873990</td>\n",
       "      <td>0.021881</td>\n",
       "      <td>80.923200</td>\n",
       "      <td>52.592989</td>\n",
       "      <td>-37.407011</td>\n",
       "      <td>0.00</td>\n",
       "      <td>0.0</td>\n",
       "      <td>0.0</td>\n",
       "      <td>0.0</td>\n",
       "      <td>...</td>\n",
       "      <td>0.0</td>\n",
       "      <td>90.0</td>\n",
       "      <td>0.0</td>\n",
       "      <td>4181.25</td>\n",
       "      <td>4181.25</td>\n",
       "      <td>0.0</td>\n",
       "      <td>0.0</td>\n",
       "      <td>90.0</td>\n",
       "      <td>0.0</td>\n",
       "      <td>1</td>\n",
       "    </tr>\n",
       "    <tr>\n",
       "      <th>1</th>\n",
       "      <td>3965.735177</td>\n",
       "      <td>3218.404725</td>\n",
       "      <td>-0.057718</td>\n",
       "      <td>-206.246065</td>\n",
       "      <td>-14.445753</td>\n",
       "      <td>75.554247</td>\n",
       "      <td>0.25</td>\n",
       "      <td>0.0</td>\n",
       "      <td>0.0</td>\n",
       "      <td>0.0</td>\n",
       "      <td>...</td>\n",
       "      <td>0.0</td>\n",
       "      <td>90.0</td>\n",
       "      <td>0.0</td>\n",
       "      <td>4181.25</td>\n",
       "      <td>4181.25</td>\n",
       "      <td>0.0</td>\n",
       "      <td>0.0</td>\n",
       "      <td>90.0</td>\n",
       "      <td>0.0</td>\n",
       "      <td>1</td>\n",
       "    </tr>\n",
       "    <tr>\n",
       "      <th>2</th>\n",
       "      <td>3886.114991</td>\n",
       "      <td>3889.515733</td>\n",
       "      <td>-0.009079</td>\n",
       "      <td>-35.302245</td>\n",
       "      <td>-46.378941</td>\n",
       "      <td>43.621059</td>\n",
       "      <td>0.00</td>\n",
       "      <td>0.0</td>\n",
       "      <td>0.0</td>\n",
       "      <td>0.0</td>\n",
       "      <td>...</td>\n",
       "      <td>0.0</td>\n",
       "      <td>90.0</td>\n",
       "      <td>0.0</td>\n",
       "      <td>4181.25</td>\n",
       "      <td>4181.25</td>\n",
       "      <td>0.0</td>\n",
       "      <td>0.0</td>\n",
       "      <td>90.0</td>\n",
       "      <td>0.0</td>\n",
       "      <td>0</td>\n",
       "    </tr>\n",
       "    <tr>\n",
       "      <th>3</th>\n",
       "      <td>4244.191365</td>\n",
       "      <td>4221.542235</td>\n",
       "      <td>0.007970</td>\n",
       "      <td>33.737701</td>\n",
       "      <td>35.721709</td>\n",
       "      <td>-54.278291</td>\n",
       "      <td>0.00</td>\n",
       "      <td>0.0</td>\n",
       "      <td>0.0</td>\n",
       "      <td>0.0</td>\n",
       "      <td>...</td>\n",
       "      <td>0.0</td>\n",
       "      <td>90.0</td>\n",
       "      <td>0.0</td>\n",
       "      <td>4181.25</td>\n",
       "      <td>4181.25</td>\n",
       "      <td>0.0</td>\n",
       "      <td>0.0</td>\n",
       "      <td>90.0</td>\n",
       "      <td>0.0</td>\n",
       "      <td>0</td>\n",
       "    </tr>\n",
       "    <tr>\n",
       "      <th>4</th>\n",
       "      <td>4027.260821</td>\n",
       "      <td>4398.653690</td>\n",
       "      <td>0.017723</td>\n",
       "      <td>74.666737</td>\n",
       "      <td>79.057519</td>\n",
       "      <td>-10.942481</td>\n",
       "      <td>0.00</td>\n",
       "      <td>0.0</td>\n",
       "      <td>0.0</td>\n",
       "      <td>0.0</td>\n",
       "      <td>...</td>\n",
       "      <td>0.0</td>\n",
       "      <td>90.0</td>\n",
       "      <td>0.0</td>\n",
       "      <td>4181.25</td>\n",
       "      <td>4181.25</td>\n",
       "      <td>0.0</td>\n",
       "      <td>0.0</td>\n",
       "      <td>90.0</td>\n",
       "      <td>0.0</td>\n",
       "      <td>0</td>\n",
       "    </tr>\n",
       "  </tbody>\n",
       "</table>\n",
       "<p>5 rows × 37 columns</p>\n",
       "</div>"
      ],
      "text/plain": [
       "          vaxO         vayO       ccO       dataO    angelO1    angelO2  vaxL  \\\n",
       "0  3675.948992  3719.873990  0.021881   80.923200  52.592989 -37.407011  0.00   \n",
       "1  3965.735177  3218.404725 -0.057718 -206.246065 -14.445753  75.554247  0.25   \n",
       "2  3886.114991  3889.515733 -0.009079  -35.302245 -46.378941  43.621059  0.00   \n",
       "3  4244.191365  4221.542235  0.007970   33.737701  35.721709 -54.278291  0.00   \n",
       "4  4027.260821  4398.653690  0.017723   74.666737  79.057519 -10.942481  0.00   \n",
       "\n",
       "   vayL  ccL  dataL  ...   dataa  angela1  angela2    vaxsh    vaysh  ccsh  \\\n",
       "0   0.0  0.0    0.0  ...     0.0     90.0      0.0  4181.25  4181.25   0.0   \n",
       "1   0.0  0.0    0.0  ...     0.0     90.0      0.0  4181.25  4181.25   0.0   \n",
       "2   0.0  0.0    0.0  ...     0.0     90.0      0.0  4181.25  4181.25   0.0   \n",
       "3   0.0  0.0    0.0  ...     0.0     90.0      0.0  4181.25  4181.25   0.0   \n",
       "4   0.0  0.0    0.0  ...     0.0     90.0      0.0  4181.25  4181.25   0.0   \n",
       "\n",
       "   datash  angelsh1  angelsh2  Bird  \n",
       "0     0.0      90.0       0.0     1  \n",
       "1     0.0      90.0       0.0     1  \n",
       "2     0.0      90.0       0.0     0  \n",
       "3     0.0      90.0       0.0     0  \n",
       "4     0.0      90.0       0.0     0  \n",
       "\n",
       "[5 rows x 37 columns]"
      ]
     },
     "execution_count": 19,
     "metadata": {},
     "output_type": "execute_result"
    }
   ],
   "source": [
    "data.head()"
   ]
  },
  {
   "cell_type": "code",
   "execution_count": 20,
   "metadata": {},
   "outputs": [
    {
     "data": {
      "text/plain": [
       "<matplotlib.axes._subplots.AxesSubplot at 0x7fb00d737d30>"
      ]
     },
     "execution_count": 20,
     "metadata": {},
     "output_type": "execute_result"
    },
    {
     "data": {
      "image/png": "[encoded data removed]",
      "text/plain": [
       "<Figure size 432x288 with 1 Axes>"
      ]
     },
     "metadata": {},
     "output_type": "display_data"
    }
   ],
   "source": [
    "sns.countplot(data['Bird'])"
   ]
  },
  {
   "cell_type": "code",
   "execution_count": 21,
   "metadata": {},
   "outputs": [],
   "source": [
    "x = data.drop('Bird',axis=1)\n",
    "y = data['Bird']"
   ]
  },
  {
   "cell_type": "code",
   "execution_count": 22,
   "metadata": {},
   "outputs": [],
   "source": [
    "from sklearn.preprocessing import minmax_scale\n",
    "x = minmax_scale(x)"
   ]
  },
  {
   "cell_type": "code",
   "execution_count": 23,
   "metadata": {},
   "outputs": [],
   "source": [
    "x_train,x_test,y_train,y_test = train_test_split(x,y,test_size = .2)"
   ]
  },
  {
   "cell_type": "code",
   "execution_count": 24,
   "metadata": {},
   "outputs": [
    {
     "name": "stderr",
     "output_type": "stream",
     "text": [
      "/home/praveen/anaconda3/lib/python3.6/site-packages/sklearn/linear_model/logistic.py:433: FutureWarning: Default solver will be changed to 'lbfgs' in 0.22. Specify a solver to silence this warning.\n",
      "  FutureWarning)\n"
     ]
    }
   ],
   "source": [
    "lr = LogisticRegression()\n",
    "model = lr.fit(x_train,y_train)"
   ]
  },
  {
   "cell_type": "code",
   "execution_count": 25,
   "metadata": {},
   "outputs": [],
   "source": [
    "y_hat = model.predict(x_test)"
   ]
  },
  {
   "cell_type": "code",
   "execution_count": 26,
   "metadata": {},
   "outputs": [
    {
     "data": {
      "text/plain": [
       "array([[13,  7],\n",
       "       [ 1, 19]])"
      ]
     },
     "execution_count": 26,
     "metadata": {},
     "output_type": "execute_result"
    }
   ],
   "source": [
    "from sklearn.metrics import confusion_matrix\n",
    "confusion_matrix(y_hat,y_test)"
   ]
  },
  {
   "cell_type": "code",
   "execution_count": 27,
   "metadata": {},
   "outputs": [
    {
     "name": "stderr",
     "output_type": "stream",
     "text": [
      "/home/praveen/anaconda3/lib/python3.6/site-packages/sklearn/linear_model/logistic.py:433: FutureWarning: Default solver will be changed to 'lbfgs' in 0.22. Specify a solver to silence this warning.\n",
      "  FutureWarning)\n",
      "/home/praveen/anaconda3/lib/python3.6/site-packages/sklearn/linear_model/logistic.py:433: FutureWarning: Default solver will be changed to 'lbfgs' in 0.22. Specify a solver to silence this warning.\n",
      "  FutureWarning)\n",
      "/home/praveen/anaconda3/lib/python3.6/site-packages/sklearn/linear_model/logistic.py:433: FutureWarning: Default solver will be changed to 'lbfgs' in 0.22. Specify a solver to silence this warning.\n",
      "  FutureWarning)\n",
      "/home/praveen/anaconda3/lib/python3.6/site-packages/sklearn/linear_model/logistic.py:433: FutureWarning: Default solver will be changed to 'lbfgs' in 0.22. Specify a solver to silence this warning.\n",
      "  FutureWarning)\n",
      "/home/praveen/anaconda3/lib/python3.6/site-packages/sklearn/linear_model/logistic.py:433: FutureWarning: Default solver will be changed to 'lbfgs' in 0.22. Specify a solver to silence this warning.\n",
      "  FutureWarning)\n",
      "/home/praveen/anaconda3/lib/python3.6/site-packages/sklearn/linear_model/logistic.py:433: FutureWarning: Default solver will be changed to 'lbfgs' in 0.22. Specify a solver to silence this warning.\n",
      "  FutureWarning)\n",
      "/home/praveen/anaconda3/lib/python3.6/site-packages/sklearn/linear_model/logistic.py:433: FutureWarning: Default solver will be changed to 'lbfgs' in 0.22. Specify a solver to silence this warning.\n",
      "  FutureWarning)\n",
      "/home/praveen/anaconda3/lib/python3.6/site-packages/sklearn/linear_model/logistic.py:433: FutureWarning: Default solver will be changed to 'lbfgs' in 0.22. Specify a solver to silence this warning.\n",
      "  FutureWarning)\n",
      "/home/praveen/anaconda3/lib/python3.6/site-packages/sklearn/linear_model/logistic.py:433: FutureWarning: Default solver will be changed to 'lbfgs' in 0.22. Specify a solver to silence this warning.\n",
      "  FutureWarning)\n",
      "/home/praveen/anaconda3/lib/python3.6/site-packages/sklearn/linear_model/logistic.py:433: FutureWarning: Default solver will be changed to 'lbfgs' in 0.22. Specify a solver to silence this warning.\n",
      "  FutureWarning)\n",
      "/home/praveen/anaconda3/lib/python3.6/site-packages/sklearn/linear_model/logistic.py:433: FutureWarning: Default solver will be changed to 'lbfgs' in 0.22. Specify a solver to silence this warning.\n",
      "  FutureWarning)\n",
      "/home/praveen/anaconda3/lib/python3.6/site-packages/sklearn/linear_model/logistic.py:433: FutureWarning: Default solver will be changed to 'lbfgs' in 0.22. Specify a solver to silence this warning.\n",
      "  FutureWarning)\n",
      "/home/praveen/anaconda3/lib/python3.6/site-packages/sklearn/linear_model/logistic.py:433: FutureWarning: Default solver will be changed to 'lbfgs' in 0.22. Specify a solver to silence this warning.\n",
      "  FutureWarning)\n",
      "/home/praveen/anaconda3/lib/python3.6/site-packages/sklearn/linear_model/logistic.py:433: FutureWarning: Default solver will be changed to 'lbfgs' in 0.22. Specify a solver to silence this warning.\n",
      "  FutureWarning)\n",
      "/home/praveen/anaconda3/lib/python3.6/site-packages/sklearn/linear_model/logistic.py:433: FutureWarning: Default solver will be changed to 'lbfgs' in 0.22. Specify a solver to silence this warning.\n",
      "  FutureWarning)\n",
      "/home/praveen/anaconda3/lib/python3.6/site-packages/sklearn/linear_model/logistic.py:433: FutureWarning: Default solver will be changed to 'lbfgs' in 0.22. Specify a solver to silence this warning.\n",
      "  FutureWarning)\n",
      "/home/praveen/anaconda3/lib/python3.6/site-packages/sklearn/linear_model/logistic.py:433: FutureWarning: Default solver will be changed to 'lbfgs' in 0.22. Specify a solver to silence this warning.\n",
      "  FutureWarning)\n",
      "/home/praveen/anaconda3/lib/python3.6/site-packages/sklearn/linear_model/logistic.py:433: FutureWarning: Default solver will be changed to 'lbfgs' in 0.22. Specify a solver to silence this warning.\n",
      "  FutureWarning)\n",
      "/home/praveen/anaconda3/lib/python3.6/site-packages/sklearn/linear_model/logistic.py:433: FutureWarning: Default solver will be changed to 'lbfgs' in 0.22. Specify a solver to silence this warning.\n",
      "  FutureWarning)\n"
     ]
    },
    {
     "data": {
      "text/plain": [
       "RFE(estimator=LogisticRegression(C=1.0, class_weight=None, dual=False, fit_intercept=True,\n",
       "          intercept_scaling=1, max_iter=100, multi_class='warn',\n",
       "          n_jobs=None, penalty='l2', random_state=None, solver='warn',\n",
       "          tol=0.0001, verbose=0, warm_start=False),\n",
       "  n_features_to_select=None, step=1, verbose=0)"
      ]
     },
     "execution_count": 27,
     "metadata": {},
     "output_type": "execute_result"
    }
   ],
   "source": [
    "from sklearn.feature_selection import RFE\n",
    "selector = RFE(model)   #applying RFE to logistic regression\n",
    "selector.fit(x_train,y_train)  "
   ]
  },
  {
   "cell_type": "code",
   "execution_count": 28,
   "metadata": {},
   "outputs": [
    {
     "data": {
      "text/plain": [
       "array([ 1,  1,  1,  1,  1,  6,  1,  1,  1,  1,  1,  3,  1,  1,  1,  1,  1,\n",
       "        2,  7,  4,  1,  5,  1,  1,  8,  9, 10, 11, 12, 13, 14, 15, 16, 17,\n",
       "       18, 19])"
      ]
     },
     "execution_count": 28,
     "metadata": {},
     "output_type": "execute_result"
    }
   ],
   "source": [
    "selector.ranking_#ra"
   ]
  },
  {
   "cell_type": "code",
   "execution_count": 29,
   "metadata": {},
   "outputs": [],
   "source": [
    "x = data.drop('Bird',axis=1)\n",
    "y = data['Bird']"
   ]
  },
  {
   "cell_type": "code",
   "execution_count": 30,
   "metadata": {},
   "outputs": [
    {
     "data": {
      "text/html": [
       "<div>\n",
       "<style scoped>\n",
       "    .dataframe tbody tr th:only-of-type {\n",
       "        vertical-align: middle;\n",
       "    }\n",
       "\n",
       "    .dataframe tbody tr th {\n",
       "        vertical-align: top;\n",
       "    }\n",
       "\n",
       "    .dataframe thead th {\n",
       "        text-align: right;\n",
       "    }\n",
       "</style>\n",
       "<table border=\"1\" class=\"dataframe\">\n",
       "  <thead>\n",
       "    <tr style=\"text-align: right;\">\n",
       "      <th></th>\n",
       "      <th>vaxO</th>\n",
       "      <th>vayO</th>\n",
       "      <th>ccO</th>\n",
       "      <th>dataO</th>\n",
       "      <th>angelO1</th>\n",
       "      <th>vaxL</th>\n",
       "      <th>vayL</th>\n",
       "      <th>ccL</th>\n",
       "      <th>dataL</th>\n",
       "      <th>angelL1</th>\n",
       "      <th>vaxS</th>\n",
       "      <th>vayS</th>\n",
       "      <th>ccS</th>\n",
       "      <th>dataS</th>\n",
       "      <th>angelS1</th>\n",
       "      <th>ccC</th>\n",
       "      <th>angelC1</th>\n",
       "      <th>angelC2</th>\n",
       "    </tr>\n",
       "  </thead>\n",
       "  <tbody>\n",
       "    <tr>\n",
       "      <th>0</th>\n",
       "      <td>3675.948992</td>\n",
       "      <td>3719.873990</td>\n",
       "      <td>0.021881</td>\n",
       "      <td>80.923200</td>\n",
       "      <td>52.592989</td>\n",
       "      <td>0.00</td>\n",
       "      <td>0.0</td>\n",
       "      <td>0.0</td>\n",
       "      <td>0.0</td>\n",
       "      <td>90.0</td>\n",
       "      <td>347.238668</td>\n",
       "      <td>373.335094</td>\n",
       "      <td>0.153292</td>\n",
       "      <td>55.325192</td>\n",
       "      <td>51.650580</td>\n",
       "      <td>0.793427</td>\n",
       "      <td>33.046472</td>\n",
       "      <td>-56.953528</td>\n",
       "    </tr>\n",
       "    <tr>\n",
       "      <th>1</th>\n",
       "      <td>3965.735177</td>\n",
       "      <td>3218.404725</td>\n",
       "      <td>-0.057718</td>\n",
       "      <td>-206.246065</td>\n",
       "      <td>-14.445753</td>\n",
       "      <td>0.25</td>\n",
       "      <td>0.0</td>\n",
       "      <td>0.0</td>\n",
       "      <td>0.0</td>\n",
       "      <td>0.0</td>\n",
       "      <td>1394.961069</td>\n",
       "      <td>568.740974</td>\n",
       "      <td>-0.251580</td>\n",
       "      <td>-224.481457</td>\n",
       "      <td>-14.238525</td>\n",
       "      <td>-0.130505</td>\n",
       "      <td>-7.679449</td>\n",
       "      <td>82.320551</td>\n",
       "    </tr>\n",
       "    <tr>\n",
       "      <th>2</th>\n",
       "      <td>3886.114991</td>\n",
       "      <td>3889.515733</td>\n",
       "      <td>-0.009079</td>\n",
       "      <td>-35.302245</td>\n",
       "      <td>-46.378941</td>\n",
       "      <td>0.00</td>\n",
       "      <td>0.0</td>\n",
       "      <td>0.0</td>\n",
       "      <td>0.0</td>\n",
       "      <td>90.0</td>\n",
       "      <td>3105.286818</td>\n",
       "      <td>1796.707429</td>\n",
       "      <td>-0.728930</td>\n",
       "      <td>-1744.130536</td>\n",
       "      <td>-34.596355</td>\n",
       "      <td>0.000000</td>\n",
       "      <td>90.000000</td>\n",
       "      <td>0.000000</td>\n",
       "    </tr>\n",
       "    <tr>\n",
       "      <th>3</th>\n",
       "      <td>4244.191365</td>\n",
       "      <td>4221.542235</td>\n",
       "      <td>0.007970</td>\n",
       "      <td>33.737701</td>\n",
       "      <td>35.721709</td>\n",
       "      <td>0.00</td>\n",
       "      <td>0.0</td>\n",
       "      <td>0.0</td>\n",
       "      <td>0.0</td>\n",
       "      <td>90.0</td>\n",
       "      <td>4501.795657</td>\n",
       "      <td>5587.706746</td>\n",
       "      <td>0.054039</td>\n",
       "      <td>273.610422</td>\n",
       "      <td>76.736415</td>\n",
       "      <td>0.000000</td>\n",
       "      <td>90.000000</td>\n",
       "      <td>0.000000</td>\n",
       "    </tr>\n",
       "    <tr>\n",
       "      <th>4</th>\n",
       "      <td>4027.260821</td>\n",
       "      <td>4398.653690</td>\n",
       "      <td>0.017723</td>\n",
       "      <td>74.666737</td>\n",
       "      <td>79.057519</td>\n",
       "      <td>0.00</td>\n",
       "      <td>0.0</td>\n",
       "      <td>0.0</td>\n",
       "      <td>0.0</td>\n",
       "      <td>90.0</td>\n",
       "      <td>0.000000</td>\n",
       "      <td>0.000000</td>\n",
       "      <td>0.000000</td>\n",
       "      <td>0.000000</td>\n",
       "      <td>90.000000</td>\n",
       "      <td>0.000000</td>\n",
       "      <td>90.000000</td>\n",
       "      <td>0.000000</td>\n",
       "    </tr>\n",
       "  </tbody>\n",
       "</table>\n",
       "</div>"
      ],
      "text/plain": [
       "          vaxO         vayO       ccO       dataO    angelO1  vaxL  vayL  ccL  \\\n",
       "0  3675.948992  3719.873990  0.021881   80.923200  52.592989  0.00   0.0  0.0   \n",
       "1  3965.735177  3218.404725 -0.057718 -206.246065 -14.445753  0.25   0.0  0.0   \n",
       "2  3886.114991  3889.515733 -0.009079  -35.302245 -46.378941  0.00   0.0  0.0   \n",
       "3  4244.191365  4221.542235  0.007970   33.737701  35.721709  0.00   0.0  0.0   \n",
       "4  4027.260821  4398.653690  0.017723   74.666737  79.057519  0.00   0.0  0.0   \n",
       "\n",
       "   dataL  angelL1         vaxS         vayS       ccS        dataS    angelS1  \\\n",
       "0    0.0     90.0   347.238668   373.335094  0.153292    55.325192  51.650580   \n",
       "1    0.0      0.0  1394.961069   568.740974 -0.251580  -224.481457 -14.238525   \n",
       "2    0.0     90.0  3105.286818  1796.707429 -0.728930 -1744.130536 -34.596355   \n",
       "3    0.0     90.0  4501.795657  5587.706746  0.054039   273.610422  76.736415   \n",
       "4    0.0     90.0     0.000000     0.000000  0.000000     0.000000  90.000000   \n",
       "\n",
       "        ccC    angelC1    angelC2  \n",
       "0  0.793427  33.046472 -56.953528  \n",
       "1 -0.130505  -7.679449  82.320551  \n",
       "2  0.000000  90.000000   0.000000  \n",
       "3  0.000000  90.000000   0.000000  \n",
       "4  0.000000  90.000000   0.000000  "
      ]
     },
     "execution_count": 30,
     "metadata": {},
     "output_type": "execute_result"
    }
   ],
   "source": [
    "BirdClass1= x[x.columns[selector.support_]]#it will create a df with all obtained features\n",
    "BirdClass1.head()"
   ]
  },
  {
   "cell_type": "code",
   "execution_count": 31,
   "metadata": {},
   "outputs": [],
   "source": [
    "x = pd.DataFrame(minmax_scale(x))"
   ]
  },
  {
   "cell_type": "code",
   "execution_count": 32,
   "metadata": {},
   "outputs": [],
   "source": [
    "x_train,x_test,y_train,y_test = train_test_split(x,y,test_size = .2)"
   ]
  },
  {
   "cell_type": "code",
   "execution_count": 33,
   "metadata": {},
   "outputs": [],
   "source": [
    "from scipy.stats import chi2#"
   ]
  },
  {
   "cell_type": "code",
   "execution_count": 34,
   "metadata": {},
   "outputs": [],
   "source": [
    "degreeoffreedom = 140-1-(21-1)"
   ]
  },
  {
   "cell_type": "code",
   "execution_count": 35,
   "metadata": {},
   "outputs": [
    {
     "name": "stdout",
     "output_type": "stream",
     "text": [
      "                 Generalized Linear Model Regression Results                  \n",
      "==============================================================================\n",
      "Dep. Variable:                   Bird   No. Observations:                  160\n",
      "Model:                            GLM   Df Residuals:                      136\n",
      "Model Family:                Binomial   Df Model:                           23\n",
      "Link Function:                  logit   Scale:                          1.0000\n",
      "Method:                          IRLS   Log-Likelihood:                -71.560\n",
      "Date:                Sun, 14 Apr 2019   Deviance:                       143.12\n",
      "Time:                        22:32:46   Pearson chi2:                     245.\n",
      "No. Iterations:                     6   Covariance Type:             nonrobust\n",
      "==============================================================================\n",
      "                 coef    std err          z      P>|z|      [0.025      0.975]\n",
      "------------------------------------------------------------------------------\n",
      "0              1.5266      2.415      0.632      0.527      -3.207       6.260\n",
      "1             -3.1334      2.498     -1.254      0.210      -8.029       1.762\n",
      "2             56.0120     31.404      1.784      0.074      -5.538     117.562\n",
      "3            -46.9020     27.827     -1.686      0.092    -101.441       7.637\n",
      "4             -0.2140      1.061     -0.202      0.840      -2.294       1.866\n",
      "5              0.7625      0.913      0.835      0.404      -1.028       2.553\n",
      "6             -0.3502      1.851     -0.189      0.850      -3.979       3.278\n",
      "7              1.7198      1.838      0.936      0.350      -1.883       5.323\n",
      "8              2.0265      1.899      1.067      0.286      -1.696       5.749\n",
      "9              4.0814      3.241      1.259      0.208      -2.270      10.433\n",
      "10            -1.7193      1.334     -1.289      0.198      -4.334       0.896\n",
      "11            -1.1450      1.507     -0.760      0.447      -4.098       1.808\n",
      "12            -1.4112      1.586     -0.890      0.373      -4.519       1.697\n",
      "13            -1.6902      1.219     -1.387      0.165      -4.079       0.698\n",
      "14             0.2748      1.835      0.150      0.881      -3.321       3.871\n",
      "15             2.2497      3.264      0.689      0.491      -4.148       8.647\n",
      "16            -1.5708      1.008     -1.558      0.119      -3.547       0.406\n",
      "17             0.6264      1.148      0.546      0.585      -1.623       2.876\n",
      "18            -1.4737      1.543     -0.955      0.340      -4.499       1.551\n",
      "19             1.3322      2.517      0.529      0.597      -3.601       6.265\n",
      "20             5.9134      2.374      2.491      0.013       1.261      10.566\n",
      "21            -5.5499      3.940     -1.409      0.159     -13.272       2.172\n",
      "22            -5.2263      1.115     -4.688      0.000      -7.411      -3.041\n",
      "23             1.1923      1.281      0.931      0.352      -1.318       3.703\n",
      "24                  0          0        nan        nan           0           0\n",
      "25                  0          0        nan        nan           0           0\n",
      "26                  0          0        nan        nan           0           0\n",
      "27                  0          0        nan        nan           0           0\n",
      "28                  0          0        nan        nan           0           0\n",
      "29                  0          0        nan        nan           0           0\n",
      "30                  0          0        nan        nan           0           0\n",
      "31                  0          0        nan        nan           0           0\n",
      "32                  0          0        nan        nan           0           0\n",
      "33                  0          0        nan        nan           0           0\n",
      "34                  0          0        nan        nan           0           0\n",
      "35                  0          0        nan        nan           0           0\n",
      "==============================================================================\n",
      "INFO: Null deviance = 221.70708735991082\n",
      "INFO: Residual deviance = 143.11906366707547\n",
      "INFO: Critical Value of chi2 = 145.46074022476483\n",
      "INFO: Pearson chi2 = 244.76911197284727\n",
      "INFO: P-value chi2 = 1.0043221809752367e-10\n",
      "INFO: AIC = 191.11906366707547\n"
     ]
    },
    {
     "name": "stderr",
     "output_type": "stream",
     "text": [
      "/home/praveen/anaconda3/lib/python3.6/site-packages/statsmodels/base/model.py:1100: RuntimeWarning: invalid value encountered in true_divide\n",
      "  return self.params / self.bse\n",
      "/home/praveen/anaconda3/lib/python3.6/site-packages/scipy/stats/_distn_infrastructure.py:879: RuntimeWarning: invalid value encountered in greater\n",
      "  return (self.a < x) & (x < self.b)\n",
      "/home/praveen/anaconda3/lib/python3.6/site-packages/scipy/stats/_distn_infrastructure.py:879: RuntimeWarning: invalid value encountered in less\n",
      "  return (self.a < x) & (x < self.b)\n",
      "/home/praveen/anaconda3/lib/python3.6/site-packages/scipy/stats/_distn_infrastructure.py:1821: RuntimeWarning: invalid value encountered in less_equal\n",
      "  cond2 = cond0 & (x <= self.a)\n"
     ]
    }
   ],
   "source": [
    "#Creating a new Logistic model for our new data\n",
    "model = sm.GLM(y_train,x_train,family=sm.families.Binomial()).fit()#logistic belongs to binomial family i;e normal distribution\n",
    "print(model.summary())\n",
    "#we have calculate below values to know our model perform.\n",
    "print('INFO: Null deviance =',model.null_deviance)\n",
    "print('INFO: Residual deviance =',model.deviance)\n",
    "print('INFO: Critical Value of chi2 =',chi2.ppf(0.95,degreeoffreedom))\n",
    "print('INFO: Pearson chi2 =',model.pearson_chi2)\n",
    "print('INFO: P-value chi2 =',1-chi2.cdf(model.pearson_chi2,degreeoffreedom))\n",
    "print('INFO: AIC =',model.aic)"
   ]
  },
  {
   "cell_type": "code",
   "execution_count": 36,
   "metadata": {},
   "outputs": [],
   "source": [
    "#This function will replaces the probability values with 0's and 1's\n",
    "def probreplace(y):#Here y is the function variable is called when ever required\n",
    "    if y >= 0.52:\n",
    "        return 1\n",
    "    else:\n",
    "        return 0"
   ]
  },
  {
   "cell_type": "code",
   "execution_count": 37,
   "metadata": {},
   "outputs": [],
   "source": [
    "#gives the predicted probability values for train and test data and storing in new variables\n",
    "y_train_prob = model.predict(x_train)\n",
    "y_test_prob = model.predict(x_test)\n",
    "#Applying the above function to replace prob values and storing in new variables\n",
    "y_pred_train= y_train_prob.apply(probreplace)\n",
    "y_pred_test = y_test_prob.apply(probreplace)"
   ]
  },
  {
   "cell_type": "code",
   "execution_count": 38,
   "metadata": {},
   "outputs": [
    {
     "data": {
      "text/plain": [
       "pandas.core.series.Series"
      ]
     },
     "execution_count": 38,
     "metadata": {},
     "output_type": "execute_result"
    }
   ],
   "source": [
    "type(y_train_prob)"
   ]
  },
  {
   "cell_type": "code",
   "execution_count": 39,
   "metadata": {},
   "outputs": [],
   "source": [
    "#A  ConfusionMatrix is a table that is often used to describe the performance of a  model\n",
    "from pandas_ml import ConfusionMatrix   \n",
    "cm_train = ConfusionMatrix(y_train,y_pred_train)\n",
    "cm_test = ConfusionMatrix(y_test,y_pred_test)"
   ]
  },
  {
   "cell_type": "code",
   "execution_count": 40,
   "metadata": {},
   "outputs": [
    {
     "name": "stdout",
     "output_type": "stream",
     "text": [
      "INFO: Confusion Matrix for Traning Data \n",
      "\n",
      " Predicted  False  True  __all__\n",
      "Actual                         \n",
      "False         66    12       78\n",
      "True          17    65       82\n",
      "__all__       83    77      160 \n",
      "\n",
      "\n",
      "INFO: Confusion Matrix for Testing Data \n",
      "\n",
      " Predicted  False  True  __all__\n",
      "Actual                         \n",
      "False         19     3       22\n",
      "True           5    13       18\n",
      "__all__       24    16       40\n"
     ]
    }
   ],
   "source": [
    "print('INFO: Confusion Matrix for Traning Data \\n\\n',cm_train,'\\n\\n')\n",
    "print('INFO: Confusion Matrix for Testing Data \\n\\n',cm_test)"
   ]
  },
  {
   "cell_type": "code",
   "execution_count": 41,
   "metadata": {},
   "outputs": [
    {
     "name": "stdout",
     "output_type": "stream",
     "text": [
      "For Traning Data\n"
     ]
    },
    {
     "name": "stderr",
     "output_type": "stream",
     "text": [
      "/home/praveen/anaconda3/lib/python3.6/site-packages/pandas_ml/confusion_matrix/stats.py:60: FutureWarning: supplying multiple axes to axis is deprecated and will be removed in a future version.\n",
      "  num = df[df > 1].dropna(axis=[0, 1], thresh=1).applymap(lambda n: choose(n, 2)).sum().sum() - np.float64(nis2 * njs2) / n2\n"
     ]
    },
    {
     "data": {
      "text/plain": [
       "OrderedDict([('Accuracy', 0.81875),\n",
       "             ('95% CI', (0.7501802648267919, 0.8751260075850857)),\n",
       "             ('No Information Rate', 'ToDo'),\n",
       "             ('P-Value [Acc > NIR]', 2.3062596443798096e-15),\n",
       "             ('Kappa', 0.6378395254448954),\n",
       "             (\"Mcnemar's Test P-Value\", 'ToDo')])"
      ]
     },
     "execution_count": 41,
     "metadata": {},
     "output_type": "execute_result"
    }
   ],
   "source": [
    "print('For Traning Data')#gives overall performance of a model\n",
    "cm_train.stats_overall"
   ]
  },
  {
   "cell_type": "code",
   "execution_count": 42,
   "metadata": {},
   "outputs": [
    {
     "name": "stdout",
     "output_type": "stream",
     "text": [
      "For Testing Data\n"
     ]
    },
    {
     "name": "stderr",
     "output_type": "stream",
     "text": [
      "/home/praveen/anaconda3/lib/python3.6/site-packages/pandas_ml/confusion_matrix/stats.py:60: FutureWarning: supplying multiple axes to axis is deprecated and will be removed in a future version.\n",
      "  num = df[df > 1].dropna(axis=[0, 1], thresh=1).applymap(lambda n: choose(n, 2)).sum().sum() - np.float64(nis2 * njs2) / n2\n"
     ]
    },
    {
     "data": {
      "text/plain": [
       "OrderedDict([('Accuracy', 0.8),\n",
       "             ('95% CI', (0.6435219813207653, 0.9094775906000093)),\n",
       "             ('No Information Rate', 'ToDo'),\n",
       "             ('P-Value [Acc > NIR]', 0.00606462839872809),\n",
       "             ('Kappa', 0.5918367346938777),\n",
       "             (\"Mcnemar's Test P-Value\", 'ToDo')])"
      ]
     },
     "execution_count": 42,
     "metadata": {},
     "output_type": "execute_result"
    }
   ],
   "source": [
    "print('For Testing Data')\n",
    "cm_test.stats_overall"
   ]
  },
  {
   "cell_type": "markdown",
   "metadata": {},
   "source": [
    "# model dump and model loading "
   ]
  },
  {
   "cell_type": "code",
   "execution_count": 43,
   "metadata": {},
   "outputs": [
    {
     "data": {
      "text/plain": [
       "189    0.777780\n",
       "44     0.636528\n",
       "150    0.955465\n",
       "183    0.994182\n",
       "113    0.306203\n",
       "169    0.135467\n",
       "116    0.930397\n",
       "156    0.468769\n",
       "32     0.933816\n",
       "136    0.836466\n",
       "10     0.233309\n",
       "161    0.483451\n",
       "112    0.110479\n",
       "2      0.170568\n",
       "124    0.253500\n",
       "68     0.464133\n",
       "138    0.070880\n",
       "38     0.995679\n",
       "153    0.435292\n",
       "33     0.951707\n",
       "70     0.458543\n",
       "127    0.853994\n",
       "1      0.940563\n",
       "154    0.178826\n",
       "89     0.619137\n",
       "39     0.320628\n",
       "92     0.471459\n",
       "56     0.091443\n",
       "85     0.195349\n",
       "19     0.129603\n",
       "197    0.357030\n",
       "73     0.542686\n",
       "98     0.183552\n",
       "76     0.185677\n",
       "109    0.928821\n",
       "58     0.489210\n",
       "71     0.207353\n",
       "180    0.955031\n",
       "173    0.565944\n",
       "80     0.088188\n",
       "dtype: float64"
      ]
     },
     "execution_count": 43,
     "metadata": {},
     "output_type": "execute_result"
    }
   ],
   "source": [
    "import pickle \n",
    "  \n",
    "# Save the trained model as a pickle string. \n",
    "saved_model = pickle.dumps(model) \n",
    "  \n",
    "# Load the pickled model \n",
    "glm_from_pickle = pickle.loads(saved_model) \n",
    "  \n",
    "# Use the loaded pickled model to make predictions \n",
    "glm_from_pickle.predict(x_test)"
   ]
  },
  {
   "cell_type": "code",
   "execution_count": 44,
   "metadata": {},
   "outputs": [
    {
     "name": "stdout",
     "output_type": "stream",
     "text": [
      " \n"
     ]
    },
    {
     "data": {
      "image/png": "[encoded data removed]",
      "text/plain": [
       "<Figure size 720x432 with 1 Axes>"
      ]
     },
     "metadata": {},
     "output_type": "display_data"
    }
   ],
   "source": [
    "#Computes Area Under the Receiver Operating Characteristic Curve (ROC AUC) from prediction scores.\n",
    "from sklearn.metrics import roc_curve,auc\n",
    "fpr,tpr,threshold = roc_curve(y_train,y_train_prob)\n",
    "\n",
    "plt.figure(figsize=(10,6))\n",
    "plt.plot(fpr,tpr,color='red',lw=1.5)\n",
    "plt.plot([0, 1], [0, 1], color='navy',lw = 2, linestyle='--')\n",
    "\n",
    "for i,value in enumerate(fpr*10):\n",
    "    try:\n",
    "        if (round(fpr[i+1]*10) - round(fpr[i]*10)) == 1:\n",
    "            plt.text(fpr[i],tpr[i],'%0.2f'%(threshold[i]))\n",
    "    except IndexError:\n",
    "        print(' ')\n",
    "        \n",
    "plt.xlabel('False Positive Rate')\n",
    "plt.ylabel('True Positive Rate')\n",
    "plt.title('ROC Curve')\n",
    "plt.legend(['ROC curve (area = %0.2f)' % auc(fpr,tpr)])\n",
    "plt.show()"
   ]
  },
  {
   "cell_type": "code",
   "execution_count": 45,
   "metadata": {},
   "outputs": [],
   "source": [
    "from sklearn.tree import DecisionTreeClassifier"
   ]
  },
  {
   "cell_type": "code",
   "execution_count": 46,
   "metadata": {},
   "outputs": [
    {
     "data": {
      "text/plain": [
       "DecisionTreeClassifier(class_weight=None, criterion='entropy', max_depth=4,\n",
       "            max_features=None, max_leaf_nodes=None,\n",
       "            min_impurity_decrease=0.0, min_impurity_split=None,\n",
       "            min_samples_leaf=1, min_samples_split=2,\n",
       "            min_weight_fraction_leaf=0.0, presort=False, random_state=None,\n",
       "            splitter='best')"
      ]
     },
     "execution_count": 46,
     "metadata": {},
     "output_type": "execute_result"
    }
   ],
   "source": [
    "drugTree = DecisionTreeClassifier(criterion=\"entropy\", max_depth = 4)\n",
    "drugTree.fit(x_train,y_train)"
   ]
  },
  {
   "cell_type": "code",
   "execution_count": 66,
   "metadata": {},
   "outputs": [],
   "source": [
    "predTree = drugTree.predict(x_test)"
   ]
  },
  {
   "cell_type": "code",
   "execution_count": 67,
   "metadata": {},
   "outputs": [],
   "source": [
    "cm_dt = ConfusionMatrix(y_train,drugTree.predict(x_train))"
   ]
  },
  {
   "cell_type": "code",
   "execution_count": 68,
   "metadata": {},
   "outputs": [
    {
     "name": "stderr",
     "output_type": "stream",
     "text": [
      "/home/praveen/anaconda3/lib/python3.6/site-packages/pandas_ml/confusion_matrix/stats.py:60: FutureWarning: supplying multiple axes to axis is deprecated and will be removed in a future version.\n",
      "  num = df[df > 1].dropna(axis=[0, 1], thresh=1).applymap(lambda n: choose(n, 2)).sum().sum() - np.float64(nis2 * njs2) / n2\n"
     ]
    },
    {
     "data": {
      "text/plain": [
       "OrderedDict([('Accuracy', 0.49606299212598426),\n",
       "             ('95% CI', (0.40617544957454527, 0.5861382890972416)),\n",
       "             ('No Information Rate', 'ToDo'),\n",
       "             ('P-Value [Acc > NIR]', 0.8764264269138978),\n",
       "             ('Kappa', -0.007187112763320896),\n",
       "             (\"Mcnemar's Test P-Value\", 'ToDo')])"
      ]
     },
     "execution_count": 68,
     "metadata": {},
     "output_type": "execute_result"
    }
   ],
   "source": [
    "cm_dt.stats_overall"
   ]
  },
  {
   "cell_type": "markdown",
   "metadata": {},
   "source": [
    "# RAndom forest by this method we are able to get 90 % accuracy"
   ]
  },
  {
   "cell_type": "code",
   "execution_count": 97,
   "metadata": {},
   "outputs": [
    {
     "name": "stderr",
     "output_type": "stream",
     "text": [
      "/home/praveen/anaconda3/lib/python3.6/site-packages/sklearn/ensemble/forest.py:246: FutureWarning: The default value of n_estimators will change from 10 in version 0.20 to 100 in 0.22.\n",
      "  \"10 in version 0.20 to 100 in 0.22.\", FutureWarning)\n"
     ]
    },
    {
     "data": {
      "text/plain": [
       "0.8095238095238094"
      ]
     },
     "execution_count": 97,
     "metadata": {},
     "output_type": "execute_result"
    }
   ],
   "source": [
    "from sklearn.ensemble import RandomForestClassifier\n",
    "from sklearn.metrics import accuracy_score\n",
    "from sklearn import model_selection\n",
    "rmf=RandomForestClassifier(max_depth=3,random_state=42)\n",
    "rf_class=rmf.fit(x_train,y_train) # fiting model \n",
    "seed=7\n",
    "num_trees=30 # no of branches : 30 default\n",
    "kfold=model_selection.KFold(n_splits=14,random_state=seed) \n",
    "result=model_selection.cross_val_score(rf_class,x_train,y_train,cv=kfold)\n",
    "result.mean()"
   ]
  },
  {
   "cell_type": "code",
   "execution_count": 98,
   "metadata": {},
   "outputs": [
    {
     "data": {
      "text/plain": [
       "0.8095238095238094"
      ]
     },
     "execution_count": 98,
     "metadata": {},
     "output_type": "execute_result"
    }
   ],
   "source": [
    "seed=7\n",
    "num_trees=30 # no of branches : 30 default\n",
    "kfold=model_selection.KFold(n_splits=14,random_state=seed) \n",
    "result=model_selection.cross_val_score(rf_class,x_train,y_train,cv=kfold)\n",
    "result.mean()"
   ]
  },
  {
   "cell_type": "code",
   "execution_count": 86,
   "metadata": {},
   "outputs": [
    {
     "name": "stdout",
     "output_type": "stream",
     "text": [
      "[[64 14]\n",
      " [ 5 77]] \n",
      "\n",
      " [[16  6]\n",
      " [ 1 17]]\n"
     ]
    }
   ],
   "source": [
    "from sklearn.metrics import confusion_matrix\n",
    "rf_y_test=rf_class.predict(x_test)\n",
    "rf_y_train = rf_class.predict(x_train)\n",
    "rf_cm_test=confusion_matrix(y_test,rf_y_test)\n",
    "rf_cm_train = confusion_matrix(y_train,rf_y_train)\n",
    "print(rf_cm_train ,'\\n\\n', rf_cm_test)"
   ]
  },
  {
   "cell_type": "code",
   "execution_count": 96,
   "metadata": {},
   "outputs": [
    {
     "name": "stdout",
     "output_type": "stream",
     "text": [
      "accuracy of train =  0.88125 \n",
      " ======================================== \n",
      " accuracy of test =  0.825\n"
     ]
    }
   ],
   "source": [
    "rf_acc_train=accuracy_score(y_train,rf_y_train)\n",
    "rf_acc_test= accuracy_score(y_test,rf_y_test)\n",
    "print('accuracy of train = ',rf_acc_train , '\\n','='*40,'\\n' , 'accuracy of test = ',rf_acc_test)"
   ]
  },
  {
   "cell_type": "markdown",
   "metadata": {},
   "source": [
    "# AdaBoost "
   ]
  },
  {
   "cell_type": "code",
   "execution_count": null,
   "metadata": {},
   "outputs": [],
   "source": []
  },
  {
   "cell_type": "code",
   "execution_count": null,
   "metadata": {},
   "outputs": [],
   "source": []
  },
  {
   "cell_type": "code",
   "execution_count": null,
   "metadata": {},
   "outputs": [],
   "source": []
  },
  {
   "cell_type": "markdown",
   "metadata": {},
   "source": [
    "# KNN "
   ]
  },
  {
   "cell_type": "code",
   "execution_count": 90,
   "metadata": {},
   "outputs": [
    {
     "data": {
      "text/plain": [
       "0.7875"
      ]
     },
     "execution_count": 90,
     "metadata": {},
     "output_type": "execute_result"
    }
   ],
   "source": [
    "# import KNeighborsClassifier model \n",
    "from sklearn.neighbors import KNeighborsClassifier as KNN \n",
    "from sklearn.metrics import accuracy_score\n",
    "knn = KNN(n_neighbors = 5) \n",
    "  \n",
    "# training model \n",
    "knn.fit(x_train, y_train) \n",
    "#accuracy test\n",
    "knn_acc_test= accuracy_score(y_train,y_hat_train)\n",
    "knn_acc_test"
   ]
  },
  {
   "cell_type": "markdown",
   "metadata": {},
   "source": [
    "# saving model through joblib"
   ]
  },
  {
   "cell_type": "code",
   "execution_count": 60,
   "metadata": {},
   "outputs": [
    {
     "data": {
      "text/plain": [
       "array([0, 1, 1, 1, 1, 0, 1, 0, 1, 1, 0, 0, 0, 0, 0, 0, 0, 1, 0, 1, 0, 1,\n",
       "       1, 1, 1, 0, 0, 0, 0, 0, 1, 1, 0, 0, 0, 1, 0, 0, 1, 0])"
      ]
     },
     "execution_count": 60,
     "metadata": {},
     "output_type": "execute_result"
    }
   ],
   "source": [
    "from sklearn.externals import joblib \n",
    "  \n",
    "# Save the model as a pickle in a file \n",
    "joblib.dump(knn, 'filename.pkl') \n",
    "  \n",
    "# Load the model from the file \n",
    "knn_from_joblib = joblib.load('filename.pkl')  \n",
    "  \n",
    "# Use the loaded model to make predictions \n",
    "knn_from_joblib.predict(x_test) \n"
   ]
  },
  {
   "cell_type": "code",
   "execution_count": 61,
   "metadata": {},
   "outputs": [],
   "source": [
    "y_hat_train = knn_from_joblib.predict(x_train)"
   ]
  },
  {
   "cell_type": "code",
   "execution_count": 62,
   "metadata": {},
   "outputs": [
    {
     "data": {
      "text/plain": [
       "Predicted  False  True  __all__\n",
       "Actual                         \n",
       "False         31    33       64\n",
       "True          36    27       63\n",
       "__all__       67    60      127"
      ]
     },
     "execution_count": 62,
     "metadata": {},
     "output_type": "execute_result"
    }
   ],
   "source": [
    "ConfusionMatrix(y_train,y_hat_train)"
   ]
  },
  {
   "cell_type": "code",
   "execution_count": 63,
   "metadata": {},
   "outputs": [
    {
     "data": {
      "text/plain": [
       "0.7875"
      ]
     },
     "execution_count": 63,
     "metadata": {},
     "output_type": "execute_result"
    }
   ],
   "source": [
    "from sklearn.metrics import accuracy_score\n",
    "knn_acc_test= accuracy_score(y_train,y_hat_train)\n",
    "knn_acc_test"
   ]
  },
  {
   "cell_type": "code",
   "execution_count": null,
   "metadata": {},
   "outputs": [],
   "source": []
  },
  {
   "cell_type": "markdown",
   "metadata": {},
   "source": [
    "# selecting K value "
   ]
  },
  {
   "cell_type": "code",
   "execution_count": 64,
   "metadata": {},
   "outputs": [
    {
     "data": {
      "text/plain": [
       "(array([0.725, 0.625, 0.8  , 0.7  , 0.775, 0.675, 0.725, 0.725, 0.7  ]),\n",
       " array([0.07060011, 0.07654655, 0.06324555, 0.07245688, 0.06602556,\n",
       "        0.07405657, 0.07060011, 0.07060011, 0.07245688]))"
      ]
     },
     "execution_count": 64,
     "metadata": {},
     "output_type": "execute_result"
    }
   ],
   "source": [
    "from sklearn.neighbors import KNeighborsClassifier\n",
    "from sklearn import metrics\n",
    "Ks = 10\n",
    "mean_acc = np.zeros((Ks-1))\n",
    "std_acc = np.zeros((Ks-1))\n",
    "ConfustionMx = [];\n",
    "for n in range(1,Ks):\n",
    "    \n",
    "    #Train Model and Predict  \n",
    "    neigh = KNeighborsClassifier(n_neighbors = n).fit(x_train,y_train)\n",
    "    yhat=neigh.predict(x_test)\n",
    "    mean_acc[n-1] = metrics.accuracy_score(y_test, yhat)\n",
    "\n",
    "    \n",
    "    std_acc[n-1]=np.std(yhat==y_test)/np.sqrt(yhat.shape[0])\n",
    "\n",
    "mean_acc , std_acc"
   ]
  },
  {
   "cell_type": "code",
   "execution_count": null,
   "metadata": {},
   "outputs": [],
   "source": []
  },
  {
   "cell_type": "code",
   "execution_count": null,
   "metadata": {},
   "outputs": [],
   "source": []
  }
 ],
 "metadata": {
  "kernelspec": {
   "display_name": "Python 3",
   "language": "python",
   "name": "python3"
  },
  "language_info": {
   "codemirror_mode": {
    "name": "ipython",
    "version": 3
   },
   "file_extension": ".py",
   "mimetype": "text/x-python",
   "name": "python",
   "nbconvert_exporter": "python",
   "pygments_lexer": "ipython3",
   "version": "3.6.8"
  }
 },
 "nbformat": 4,
 "nbformat_minor": 2
}
